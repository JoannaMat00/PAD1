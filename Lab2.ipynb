{
 "cells": [
  {
   "cell_type": "markdown",
   "metadata": {},
   "source": [
    "Zadanie 1\n",
    "Wykorzystując dekoratory, napisz cache dla funkcji tetranacci z poprzedniego zadania. Ten dekorator powinien zapobiegać przed ponownym obliczaniem tych samych wartości."
   ]
  },
  {
   "cell_type": "code",
   "execution_count": null,
   "metadata": {},
   "outputs": [],
   "source": [
    "def tetranacci_cache(func):\n",
    "    x = {}\n",
    "    def wrapper(n):\n",
    "        if n not in x:\n",
    "            x[n] = func(n)\n",
    "        return x[n]\n",
    "    return wrapper\n",
    "    \n",
    "\n",
    "@tetranacci_cache\n",
    "def tetranacci(n):\n",
    "    if n == 1 or n == 2 or n == 3:\n",
    "        return 0\n",
    "    elif n == 4:\n",
    "        return 1\n",
    "    else:\n",
    "        return tetranacci(n-1) + tetranacci(n-2) + tetranacci(n-3) + tetranacci(n-4)\n",
    "\n",
    "print(tetranacci(5))\n",
    "  "
   ]
  },
  {
   "cell_type": "markdown",
   "metadata": {},
   "source": [
    "Zadanie 2\n",
    "Zaimplementuj własny generator o nazwie repeat, zwracający obiekt podany przez użytkownika dokładnie N razy. Jeśli wartość parametru N nie została określona, generator powinien zwracać wartości w nieskończoność.\n",
    "\n",
    "PRZYKŁAD repeat(10, 3) → 10 10 10 repeat(10, 5) → 10 10 10 10 10 repeat(5) → 5 5 5 5 5 5 5 5 5 5 5 5 5 5 5… repeat(5, None) → 5 5 5 5 5 5 5 5 5 5 5 5 5 5 5…"
   ]
  },
  {
   "cell_type": "code",
   "execution_count": null,
   "metadata": {},
   "outputs": [],
   "source": [
    "def repeat(x,n=None):\n",
    "    if n is None:\n",
    "        while True:\n",
    "            yield x\n",
    "    else:\n",
    "        for i in range(n):\n",
    "            yield x\n",
    "        \n",
    "for b in repeat(2):\n",
    "    print(b)"
   ]
  },
  {
   "cell_type": "markdown",
   "metadata": {},
   "source": [
    "Zadanie 3\n",
    "W kodzie z zajęć w klasie Pojazd utwórz atrybut, który niezależnie od utworzonego obiektu będzie miał taką samą wartość. każdy obiekt ma mieć kolor biały"
   ]
  },
  {
   "cell_type": "code",
   "execution_count": null,
   "metadata": {},
   "outputs": [],
   "source": [
    "class Pojazd:\n",
    "    kolor = 'biały'\n",
    "    def __init__(self, predkosc_max, przebieg):\n",
    "        self.predkosc_max = predkosc_max\n",
    "        self.przebieg = przebieg\n",
    "\n",
    "pojazd1 = Pojazd(240, 50)\n",
    "print(pojazd1.predkosc_max)\n",
    "print(pojazd1.przebieg)\n",
    "print(pojazd1.kolor)"
   ]
  },
  {
   "cell_type": "markdown",
   "metadata": {},
   "source": [
    "Zadanie 4\n",
    "Wykorzystaj klasy Autobus i Pojazd. Zdefiniuj metodę opłata, k†óra będzie miała wartość domyślną liczba_miejsc * 100 Jeżeli Pojazd jest instancją Autobusu, opłata ma zostać powiększona o 10% wartości opłaty początkowej. Np. jeżeli autobus domyślnie ma 50 miejsc to opłata całkowita wyniesie 5500"
   ]
  },
  {
   "cell_type": "code",
   "execution_count": null,
   "metadata": {},
   "outputs": [],
   "source": [
    "class Pojazd:\n",
    "    def __init__(self, predkosc_max, przebieg, nazwa_modelu):\n",
    "        self.predkosc_max = predkosc_max\n",
    "        self.przebieg = przebieg\n",
    "        self.nazwa_modelu = nazwa_modelu\n",
    "    \n",
    "    def liczba_miejsc(self, miejsca):\n",
    "        return f\"{self.nazwa_modelu} pomieści {miejsca} osób.\"\n",
    "    \n",
    "    def oplata(self, miejsca):\n",
    "        return f\"opłata za {miejsca} miejsca wysienie {miejsca * 100}\"\n",
    "         \n",
    "       \n",
    "    \n",
    "class Autobus(Pojazd):\n",
    "    def liczba_miejsc(self, miejsca=50):\n",
    "        return super().liczba_miejsc(miejsca)\n",
    "    \n",
    "    def oplata(self,miejsca):\n",
    "        return f\"Gdy Pojazd jest istancją Autobusu {super().oplata(miejsca *1.1)}\"\n",
    "\n",
    "autobus1 = Autobus(300, 20, \"Autobus XYZ\")\n",
    "pojazd1 = Pojazd(300, 20, \"Pojazd XYZ\")\n",
    "print(autobus1.liczba_miejsc(20))\n",
    "print(pojazd1.liczba_miejsc(20))\n",
    "print(pojazd1.oplata(20))\n",
    "print(autobus1.oplata(20))"
   ]
  },
  {
   "cell_type": "markdown",
   "metadata": {},
   "source": [
    "Zadanie 5\n",
    "Napisz klasę FunkcjaKwadratowa, która przechowuje funkcje typu \n",
    "+bx+c. Klasa powinna zawierać trzy pola: a, b, c, które są przypisywane w konstruktorze. Główną metodą powinna być rozwiaz(), która zwraca miejsca zerowe podanej funkcji. Należy zwrócić uwagę na przypadki gdy a=0, b=0 lub c=0, a także obmyślić sposób informowania o nieskończonej liczbie, jednym lub zerze rozwiązań."
   ]
  },
  {
   "cell_type": "code",
   "execution_count": null,
   "metadata": {},
   "outputs": [],
   "source": [
    "import math\n",
    "\n",
    "class FunkcjaKwadratowa:\n",
    "    def __init__(self, a, b, c):\n",
    "        self.a = a\n",
    "        self.b = b \n",
    "        self.c = c\n",
    "\n",
    "    def wypisz(self):\n",
    "        return self.a,self.b,self.c\n",
    "\n",
    "    def oblicz_wartosc(self, x):\n",
    "        wynik = self.a*x**2 +self.b * x + self.c\n",
    "        return wynik\n",
    "\n",
    "        \n",
    "    def rozwiaz(self):\n",
    "        delta = self.b**2 - 4*self.a * self.c    \n",
    "            \n",
    "        if self.a == 0:\n",
    "            if self.b == 0:\n",
    "                if self.c == 0:\n",
    "                    return \"Nieskończenie wiele rozwiązań\"\n",
    "                else:\n",
    "                    return \"Brak rozwiązań\"\n",
    "            else:\n",
    "                x1 = (-self.c)/self.b\n",
    "                x2 = x1\n",
    "                return f\"Jedno rozwiązanie: x = {x1}\"\n",
    "        else:\n",
    "            if delta < 0:\n",
    "                return \"Brak rozwiązań\"\n",
    "            elif delta == 0:\n",
    "                x1 = (-self.b)/(2* self.a)\n",
    "                x2 = x1\n",
    "            else:\n",
    "                x1 = (-self.b - delta**(0.5))/2*self.a\n",
    "                x2 = (-self.b + delta**(0.5))/2*self.a\n",
    "        return f\"Dwa miejsca zerowe: x1 = {x1}, x2 = {x2}\"\n",
    "\n",
    "        \n",
    "def main():\n",
    "    f1 = FunkcjaKwadratowa(2, 3, 1)\n",
    "    f1.wypisz()\n",
    "    print(f1.oblicz_wartosc(0))\n",
    "    print(f1.oblicz_wartosc(1))\n",
    "\n",
    "    print(FunkcjaKwadratowa(0, 0, 0).rozwiaz())\n",
    "    print(FunkcjaKwadratowa(0, 0, 1).rozwiaz())\n",
    "    print(FunkcjaKwadratowa(0, 2, 3).rozwiaz())\n",
    "    print(FunkcjaKwadratowa(1, 2, 3).rozwiaz())\n",
    "    print(FunkcjaKwadratowa(1, -5, 6).rozwiaz())\n",
    "    print(FunkcjaKwadratowa(1, 4, 4).rozwiaz())\n",
    "\n",
    "if __name__ == \"__main__\":\n",
    "    main()"
   ]
  }
 ],
 "metadata": {
  "kernelspec": {
   "display_name": "base",
   "language": "python",
   "name": "python3"
  },
  "language_info": {
   "name": "python",
   "version": "3.11.4"
  }
 },
 "nbformat": 4,
 "nbformat_minor": 2
}
